{
 "cells": [
  {
   "cell_type": "code",
   "execution_count": 1,
   "metadata": {},
   "outputs": [],
   "source": [
    "from scipy import ndimage, signal, spatial\n",
    "from scipy.ndimage import morphology\n",
    "\n",
    "import numpy as np\n",
    "import pandas as pd\n",
    "import pdal"
   ]
  },
  {
   "cell_type": "code",
   "execution_count": 2,
   "metadata": {},
   "outputs": [
    {
     "data": {
      "text/plain": [
       "'Pipeline selected 532300 points'"
      ]
     },
     "execution_count": 2,
     "metadata": {},
     "output_type": "execute_result"
    }
   ],
   "source": [
    "data_in = \"E:/IG/Msimbazi_odm_georeferenced_model_cropped.las\"\n",
    "p = pdal.Reader.las(data_in).pipeline() | pdal.Filter.sample(radius=1.0).pipeline()\n",
    "n_points = p.execute()\n",
    "f'Pipeline selected {n_points} points'"
   ]
  },
  {
   "cell_type": "code",
   "execution_count": 3,
   "metadata": {},
   "outputs": [],
   "source": [
    "cls = p.arrays[0]['Classification']\n",
    "cls.fill(1)"
   ]
  },
  {
   "cell_type": "code",
   "execution_count": 4,
   "metadata": {},
   "outputs": [],
   "source": [
    "df3D = pd.DataFrame(p.arrays[0], columns=['X','Y','Z'])"
   ]
  },
  {
   "cell_type": "code",
   "execution_count": 5,
   "metadata": {},
   "outputs": [],
   "source": [
    "S = 20\n",
    "k = 0.000\n",
    "n = 0.1\n",
    "b = -0.2"
   ]
  },
  {
   "cell_type": "code",
   "execution_count": 6,
   "metadata": {},
   "outputs": [],
   "source": [
    "density = n_points / (p.arrays[0]['Y'].ptp() * p.arrays[0]['X'].ptp())\n",
    "hres = 1. / density"
   ]
  },
  {
   "cell_type": "code",
   "execution_count": 7,
   "metadata": {},
   "outputs": [],
   "source": [
    "xi = np.ogrid[p.arrays[0]['X'].min():p.arrays[0]['X'].max():hres]\n",
    "yi = np.ogrid[p.arrays[0]['Y'].min():p.arrays[0]['Y'].max():hres]"
   ]
  },
  {
   "cell_type": "code",
   "execution_count": 8,
   "metadata": {},
   "outputs": [],
   "source": [
    "bins = df3D.groupby([np.digitize(p.arrays[0]['X'], xi), np.digitize(p.arrays[0]['Y'], yi)])"
   ]
  },
  {
   "cell_type": "code",
   "execution_count": 9,
   "metadata": {},
   "outputs": [],
   "source": [
    "zmins = bins.Z.min()\n",
    "cz = np.empty((yi.size, xi.size))\n",
    "cz.fill(np.nan)\n",
    "for name, val in zmins.iteritems():\n",
    "    cz[name[1]-1, name[0]-1] = val"
   ]
  },
  {
   "cell_type": "code",
   "execution_count": 10,
   "metadata": {},
   "outputs": [],
   "source": [
    "def idw(data):\n",
    "    # Find indices of the ground returns, i.e., anything that is not a nan, and create a KD-tree.\n",
    "    # We will search this tree when looking for nearest neighbors to perform the interpolation.\n",
    "    valid = np.argwhere(~np.isnan(data))\n",
    "    tree = spatial.cKDTree(valid)\n",
    "    \n",
    "    # Now find indices of the non-ground returns, as indicated by nan values. We will interpolate\n",
    "    # at these locations.\n",
    "    nans = np.argwhere(np.isnan(data))    \n",
    "    for row in nans:\n",
    "        d, idx = tree.query(row, k=12)\n",
    "        d = np.power(d, -2)\n",
    "        v = data[valid[idx, 0], valid[idx, 1]]\n",
    "        data[row[0], row[1]] = np.inner(v, d)/np.sum(d)\n",
    "        \n",
    "    return data"
   ]
  },
  {
   "cell_type": "code",
   "execution_count": 11,
   "metadata": {},
   "outputs": [],
   "source": [
    "cz = idw(cz)"
   ]
  },
  {
   "cell_type": "code",
   "execution_count": 12,
   "metadata": {},
   "outputs": [],
   "source": [
    "struct = ndimage.iterate_structure(ndimage.generate_binary_structure(2, 1), 11).astype(int)\n",
    "opened = morphology.grey_opening(cz, structure=struct)"
   ]
  },
  {
   "cell_type": "code",
   "execution_count": 13,
   "metadata": {},
   "outputs": [],
   "source": [
    "struct = ndimage.iterate_structure(ndimage.generate_binary_structure(2, 1), 9).astype(int)\n",
    "closed = morphology.grey_closing(opened, structure=struct)"
   ]
  },
  {
   "cell_type": "code",
   "execution_count": 14,
   "metadata": {},
   "outputs": [],
   "source": [
    "lowx, lowy = np.where((closed - cz) >= 1.0)\n",
    "cz[lowx, lowy] = closed[lowx, lowy]"
   ]
  },
  {
   "cell_type": "code",
   "execution_count": 15,
   "metadata": {},
   "outputs": [],
   "source": [
    "stdev = 14\n",
    "G = np.outer(signal.gaussian(113,stdev), signal.gaussian(113,stdev))\n",
    "low = signal.fftconvolve(np.pad(cz,2*stdev,'edge'), G, mode='same')[2*stdev:-2*stdev,2*stdev:-2*stdev]/1000."
   ]
  },
  {
   "cell_type": "code",
   "execution_count": 16,
   "metadata": {},
   "outputs": [],
   "source": [
    "high = cz - low"
   ]
  },
  {
   "cell_type": "code",
   "execution_count": 17,
   "metadata": {},
   "outputs": [],
   "source": [
    "erosions = []\n",
    "granulometry = []\n",
    "erosions.append(morphology.grey_erosion(high, size=3))\n",
    "for scale in range(1, S):\n",
    "    erosions.append(morphology.grey_erosion(erosions[scale-1], size=3))\n",
    "for scale in range(1, S+1):\n",
    "    granulometry.append(morphology.grey_dilation(erosions[scale-1], size=2*scale+1))"
   ]
  },
  {
   "cell_type": "code",
   "execution_count": 18,
   "metadata": {},
   "outputs": [],
   "source": [
    "out = []\n",
    "for i in range(1, len(granulometry)):\n",
    "    out.append(granulometry[i-1]-granulometry[i])"
   ]
  },
  {
   "cell_type": "code",
   "execution_count": 19,
   "metadata": {},
   "outputs": [],
   "source": [
    "gprime = np.maximum.reduce(out)\n",
    "xs, ys = out[0].shape\n",
    "gstar = np.zeros((xs,ys))\n",
    "gplus = np.zeros((xs,ys))\n",
    "for ii in range(0,xs):\n",
    "    for jj in range(0,ys):\n",
    "        for kk in range(0,len(out)):\n",
    "            if out[kk][ii,jj] < gprime[ii,jj]:\n",
    "                gplus[ii,jj] += out[kk][ii,jj]\n",
    "            if out[kk][ii,jj] == gprime[ii,jj]:\n",
    "                gplus[ii,jj] += out[kk][ii,jj]\n",
    "                gstar[ii,jj] = kk\n",
    "                break"
   ]
  },
  {
   "cell_type": "code",
   "execution_count": 20,
   "metadata": {},
   "outputs": [],
   "source": [
    "T = k * gstar + n\n",
    "Sg = gprime < T"
   ]
  },
  {
   "cell_type": "code",
   "execution_count": 21,
   "metadata": {},
   "outputs": [],
   "source": [
    "F = cz.copy()\n",
    "F[np.where(Sg==0)] = np.nan"
   ]
  },
  {
   "cell_type": "code",
   "execution_count": 22,
   "metadata": {},
   "outputs": [],
   "source": [
    "G = idw(F)"
   ]
  },
  {
   "cell_type": "code",
   "execution_count": 23,
   "metadata": {},
   "outputs": [],
   "source": [
    "struct = ndimage.iterate_structure(ndimage.generate_binary_structure(2, 1), 1).astype(int)\n",
    "gradDTM = morphology.grey_dilation(G, structure=struct)"
   ]
  },
  {
   "cell_type": "code",
   "execution_count": 24,
   "metadata": {},
   "outputs": [],
   "source": [
    "xbins = np.digitize(df3D.X, xi)\n",
    "ybins = np.digitize(df3D.Y, yi)\n",
    "nonground = np.where(df3D.Z >= gradDTM[ybins-1, xbins-1]+b)\n",
    "ground = np.where(df3D.Z < gradDTM[ybins-1, xbins-1]+b)"
   ]
  },
  {
   "cell_type": "code",
   "execution_count": 25,
   "metadata": {},
   "outputs": [],
   "source": [
    "g = df3D.iloc[ground]\n",
    "ng = df3D.iloc[nonground]"
   ]
  },
  {
   "cell_type": "code",
   "execution_count": 26,
   "metadata": {},
   "outputs": [
    {
     "data": {
      "text/plain": [
       "194561"
      ]
     },
     "execution_count": 26,
     "metadata": {},
     "output_type": "execute_result"
    }
   ],
   "source": [
    "cls[ground] = 2\n",
    "len(cls[ground]) #number of ground points"
   ]
  },
  {
   "cell_type": "code",
   "execution_count": 27,
   "metadata": {},
   "outputs": [],
   "source": [
    "output = p.arrays[0]\n",
    "output['Classification'] =cls"
   ]
  },
  {
   "cell_type": "code",
   "execution_count": 28,
   "metadata": {},
   "outputs": [
    {
     "name": "stdout",
     "output_type": "stream",
     "text": [
      "194561\n"
     ]
    }
   ],
   "source": [
    "pipeline = pdal.Filter.range(limits=\"Classification[2:2]\").pipeline(output)\n",
    "print(pipeline.execute())"
   ]
  },
  {
   "cell_type": "code",
   "execution_count": 29,
   "metadata": {},
   "outputs": [
    {
     "name": "stdout",
     "output_type": "stream",
     "text": [
      "140827\n"
     ]
    }
   ],
   "source": [
    "pmf_arr = pipeline.arrays[0]\n",
    "pipeline = pdal.Filter.pmf().pipeline(pmf_arr) | pdal.Filter.range(limits=\"Classification[2:2]\").pipeline()\n",
    "print(pipeline.execute())"
   ]
  },
  {
   "cell_type": "code",
   "execution_count": 31,
   "metadata": {},
   "outputs": [
    {
     "name": "stdout",
     "output_type": "stream",
     "text": [
      "140827\n"
     ]
    }
   ],
   "source": [
    "final_out = pipeline.arrays[0]\n",
    "pipeline = pdal.Writer.las(filename=\"ground_only.las\",).pipeline(final_out)\n",
    "print(pipeline.execute())"
   ]
  },
  {
   "cell_type": "code",
   "execution_count": null,
   "metadata": {},
   "outputs": [],
   "source": []
  }
 ],
 "metadata": {
  "interpreter": {
   "hash": "51637236c88b7f67ec929484c34bf885e2bb3af581387ab562e768ff7801efe9"
  },
  "kernelspec": {
   "display_name": "Python 3.9.9 64-bit ('py39': conda)",
   "language": "python",
   "name": "python3"
  },
  "language_info": {
   "codemirror_mode": {
    "name": "ipython",
    "version": 3
   },
   "file_extension": ".py",
   "mimetype": "text/x-python",
   "name": "python",
   "nbconvert_exporter": "python",
   "pygments_lexer": "ipython3",
   "version": "3.9.9"
  },
  "orig_nbformat": 4
 },
 "nbformat": 4,
 "nbformat_minor": 2
}
